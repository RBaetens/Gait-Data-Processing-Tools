{
 "cells": [
  {
   "cell_type": "code",
   "execution_count": 5,
   "id": "e83f2694-9cfc-4ff4-b27f-5bf9bdbe1470",
   "metadata": {},
   "outputs": [],
   "source": [
    "import os\n",
    "import pandas as pd\n",
    "import numpy as np\n",
    "import matplotlib.pyplot as plt"
   ]
  },
  {
   "cell_type": "code",
   "execution_count": 16,
   "id": "f731f9f1-96a7-4551-ad35-2392482be31e",
   "metadata": {},
   "outputs": [],
   "source": [
    "target_folder = \"C:/Users/robaeten/OneDrive - UGent/Gait Classification and References/Data/Subject14/Session1_Proc_Ref\"\n",
    "all_files = os.listdir(target_folder)\n",
    "target_files = [file for file in all_files if ((\"EMG\" in file) and (\"Rec2\" in file))]\n",
    "\n",
    "for file in target_files:\n",
    "    filename = target_folder + \"/\" + file\n",
    "    emg_df = pd.read_csv(filename)\n",
    "    emg_df[:] = np.nan\n",
    "    emg_df.to_csv(filename, index=False, float_format=\"%.6g\")"
   ]
  },
  {
   "cell_type": "code",
   "execution_count": null,
   "id": "91832d93-d40d-4b25-8586-8a9ea11dd0c7",
   "metadata": {},
   "outputs": [],
   "source": []
  }
 ],
 "metadata": {
  "kernelspec": {
   "display_name": "Python [conda env:base] *",
   "language": "python",
   "name": "conda-base-py"
  },
  "language_info": {
   "codemirror_mode": {
    "name": "ipython",
    "version": 3
   },
   "file_extension": ".py",
   "mimetype": "text/x-python",
   "name": "python",
   "nbconvert_exporter": "python",
   "pygments_lexer": "ipython3",
   "version": "3.13.5"
  }
 },
 "nbformat": 4,
 "nbformat_minor": 5
}
