{
 "cells": [
  {
   "cell_type": "markdown",
   "id": "fef9d6c0-33e0-4869-a582-81a6c1fa40f2",
   "metadata": {},
   "source": [
    "# 1) Fix ankle angle subject 17"
   ]
  },
  {
   "cell_type": "code",
   "execution_count": 33,
   "id": "2f54b909-c2e8-4465-b71c-b84c636928d0",
   "metadata": {},
   "outputs": [],
   "source": [
    "import numpy as np\n",
    "import pandas as pd\n",
    "import LocomotionAnalysisTools as lat"
   ]
  },
  {
   "cell_type": "code",
   "execution_count": 35,
   "id": "c5f90d0d-2dc2-4525-8049-00350365ee29",
   "metadata": {},
   "outputs": [],
   "source": [
    "dataFolder = \"C:/Users/robaeten/OneDrive - UGent/Gait Classification and References/Data\"\n",
    "subjectSessions = {\"Subject17\": [\"Session1\"]}\n",
    "dataToRead = \"_Proc_Ref\"\n",
    "foldersToRead, subjectInfoFiles = lat.get_data_locations(dataFolder, subjectSessions, dataToRead)\n",
    "filesToRead, _ = lat.get_filenames_ref(foldersToRead, subjectInfoFiles)"
   ]
  },
  {
   "cell_type": "code",
   "execution_count": 35,
   "id": "f7b09121-1610-42f3-b1ed-3becfcc6c59a",
   "metadata": {},
   "outputs": [],
   "source": [
    "dataFolder = \"C:/Users/robaeten/OneDrive - UGent/Gait Classification and References/Data\"\n",
    "subjectSessions = {\"Subject17\": [\"Session1\"]}\n",
    "dataToRead = \"_Proc_Trn\"\n",
    "foldersToRead, subjectInfoFiles = lat.get_data_locations(dataFolder, subjectSessions, dataToRead)\n",
    "filesToRead, _ = lat.get_filenames_train(foldersToRead, subjectInfoFiles)"
   ]
  },
  {
   "cell_type": "code",
   "execution_count": 37,
   "id": "118e73f5-8c09-4d45-8333-4ec97524576b",
   "metadata": {},
   "outputs": [
    {
     "name": "stdout",
     "output_type": "stream",
     "text": [
      "C:/Users/robaeten/OneDrive - UGent/Gait Classification and References/Data/Subject17/Session1_Proc_GMC/Subj17 - Rec1 - Normal level walking - Rep1 - ModOut.csv\n"
     ]
    }
   ],
   "source": [
    "print(filesToRead[20][6])"
   ]
  },
  {
   "cell_type": "code",
   "execution_count": 39,
   "id": "ae3c7f97-cbff-4c65-9f78-85fbc7c570d7",
   "metadata": {},
   "outputs": [
    {
     "name": "stderr",
     "output_type": "stream",
     "text": [
      "C:\\Users\\robaeten\\AppData\\Local\\Temp\\ipykernel_26464\\1521609139.py:9: RuntimeWarning: Mean of empty slice\n",
      "  mean_r_ank_ang_x = np.nanmean(r_ank_ang_x)\n",
      "C:\\Users\\robaeten\\AppData\\Local\\Temp\\ipykernel_26464\\1521609139.py:10: RuntimeWarning: Mean of empty slice\n",
      "  mean_r_ank_ang_y = np.nanmean(r_ank_ang_y)\n",
      "C:\\Users\\robaeten\\AppData\\Local\\Temp\\ipykernel_26464\\1521609139.py:11: RuntimeWarning: Mean of empty slice\n",
      "  mean_r_ank_ang_z = np.nanmean(r_ank_ang_z)\n",
      "C:\\Users\\robaeten\\AppData\\Local\\Temp\\ipykernel_26464\\1521609139.py:9: RuntimeWarning: Mean of empty slice\n",
      "  mean_r_ank_ang_x = np.nanmean(r_ank_ang_x)\n",
      "C:\\Users\\robaeten\\AppData\\Local\\Temp\\ipykernel_26464\\1521609139.py:10: RuntimeWarning: Mean of empty slice\n",
      "  mean_r_ank_ang_y = np.nanmean(r_ank_ang_y)\n",
      "C:\\Users\\robaeten\\AppData\\Local\\Temp\\ipykernel_26464\\1521609139.py:11: RuntimeWarning: Mean of empty slice\n",
      "  mean_r_ank_ang_z = np.nanmean(r_ank_ang_z)\n",
      "C:\\Users\\robaeten\\AppData\\Local\\Temp\\ipykernel_26464\\1521609139.py:9: RuntimeWarning: Mean of empty slice\n",
      "  mean_r_ank_ang_x = np.nanmean(r_ank_ang_x)\n",
      "C:\\Users\\robaeten\\AppData\\Local\\Temp\\ipykernel_26464\\1521609139.py:10: RuntimeWarning: Mean of empty slice\n",
      "  mean_r_ank_ang_y = np.nanmean(r_ank_ang_y)\n",
      "C:\\Users\\robaeten\\AppData\\Local\\Temp\\ipykernel_26464\\1521609139.py:11: RuntimeWarning: Mean of empty slice\n",
      "  mean_r_ank_ang_z = np.nanmean(r_ank_ang_z)\n",
      "C:\\Users\\robaeten\\AppData\\Local\\Temp\\ipykernel_26464\\1521609139.py:9: RuntimeWarning: Mean of empty slice\n",
      "  mean_r_ank_ang_x = np.nanmean(r_ank_ang_x)\n",
      "C:\\Users\\robaeten\\AppData\\Local\\Temp\\ipykernel_26464\\1521609139.py:10: RuntimeWarning: Mean of empty slice\n",
      "  mean_r_ank_ang_y = np.nanmean(r_ank_ang_y)\n",
      "C:\\Users\\robaeten\\AppData\\Local\\Temp\\ipykernel_26464\\1521609139.py:11: RuntimeWarning: Mean of empty slice\n",
      "  mean_r_ank_ang_z = np.nanmean(r_ank_ang_z)\n",
      "C:\\Users\\robaeten\\AppData\\Local\\Temp\\ipykernel_26464\\1521609139.py:9: RuntimeWarning: Mean of empty slice\n",
      "  mean_r_ank_ang_x = np.nanmean(r_ank_ang_x)\n",
      "C:\\Users\\robaeten\\AppData\\Local\\Temp\\ipykernel_26464\\1521609139.py:10: RuntimeWarning: Mean of empty slice\n",
      "  mean_r_ank_ang_y = np.nanmean(r_ank_ang_y)\n",
      "C:\\Users\\robaeten\\AppData\\Local\\Temp\\ipykernel_26464\\1521609139.py:11: RuntimeWarning: Mean of empty slice\n",
      "  mean_r_ank_ang_z = np.nanmean(r_ank_ang_z)\n",
      "C:\\Users\\robaeten\\AppData\\Local\\Temp\\ipykernel_26464\\1521609139.py:9: RuntimeWarning: Mean of empty slice\n",
      "  mean_r_ank_ang_x = np.nanmean(r_ank_ang_x)\n",
      "C:\\Users\\robaeten\\AppData\\Local\\Temp\\ipykernel_26464\\1521609139.py:10: RuntimeWarning: Mean of empty slice\n",
      "  mean_r_ank_ang_y = np.nanmean(r_ank_ang_y)\n",
      "C:\\Users\\robaeten\\AppData\\Local\\Temp\\ipykernel_26464\\1521609139.py:11: RuntimeWarning: Mean of empty slice\n",
      "  mean_r_ank_ang_z = np.nanmean(r_ank_ang_z)\n",
      "C:\\Users\\robaeten\\AppData\\Local\\Temp\\ipykernel_26464\\1521609139.py:9: RuntimeWarning: Mean of empty slice\n",
      "  mean_r_ank_ang_x = np.nanmean(r_ank_ang_x)\n",
      "C:\\Users\\robaeten\\AppData\\Local\\Temp\\ipykernel_26464\\1521609139.py:10: RuntimeWarning: Mean of empty slice\n",
      "  mean_r_ank_ang_y = np.nanmean(r_ank_ang_y)\n",
      "C:\\Users\\robaeten\\AppData\\Local\\Temp\\ipykernel_26464\\1521609139.py:11: RuntimeWarning: Mean of empty slice\n",
      "  mean_r_ank_ang_z = np.nanmean(r_ank_ang_z)\n",
      "C:\\Users\\robaeten\\AppData\\Local\\Temp\\ipykernel_26464\\1521609139.py:9: RuntimeWarning: Mean of empty slice\n",
      "  mean_r_ank_ang_x = np.nanmean(r_ank_ang_x)\n",
      "C:\\Users\\robaeten\\AppData\\Local\\Temp\\ipykernel_26464\\1521609139.py:10: RuntimeWarning: Mean of empty slice\n",
      "  mean_r_ank_ang_y = np.nanmean(r_ank_ang_y)\n",
      "C:\\Users\\robaeten\\AppData\\Local\\Temp\\ipykernel_26464\\1521609139.py:11: RuntimeWarning: Mean of empty slice\n",
      "  mean_r_ank_ang_z = np.nanmean(r_ank_ang_z)\n",
      "C:\\Users\\robaeten\\AppData\\Local\\Temp\\ipykernel_26464\\1521609139.py:9: RuntimeWarning: Mean of empty slice\n",
      "  mean_r_ank_ang_x = np.nanmean(r_ank_ang_x)\n",
      "C:\\Users\\robaeten\\AppData\\Local\\Temp\\ipykernel_26464\\1521609139.py:10: RuntimeWarning: Mean of empty slice\n",
      "  mean_r_ank_ang_y = np.nanmean(r_ank_ang_y)\n",
      "C:\\Users\\robaeten\\AppData\\Local\\Temp\\ipykernel_26464\\1521609139.py:11: RuntimeWarning: Mean of empty slice\n",
      "  mean_r_ank_ang_z = np.nanmean(r_ank_ang_z)\n"
     ]
    }
   ],
   "source": [
    "for files in filesToRead:\n",
    "    # Read\n",
    "    mod_out_file = files[6]\n",
    "    mod_out_df = pd.read_csv(mod_out_file)\n",
    "    \n",
    "    r_ank_ang_x = mod_out_df[\"RAnkleAnglesX\"].to_numpy()\n",
    "    r_ank_ang_y = mod_out_df[\"RAnkleAnglesY\"].to_numpy()\n",
    "    r_ank_ang_z = mod_out_df[\"RAnkleAnglesZ\"].to_numpy()\n",
    "    mean_r_ank_ang_x = np.nanmean(r_ank_ang_x)\n",
    "    mean_r_ank_ang_y = np.nanmean(r_ank_ang_y)\n",
    "    mean_r_ank_ang_z = np.nanmean(r_ank_ang_z)\n",
    "\n",
    "    # Fix around 360\n",
    "    if (mean_r_ank_ang_x < 450) and (mean_r_ank_ang_x > 270):\n",
    "        r_ank_ang_x = r_ank_ang_x - 360\n",
    "    elif (mean_r_ank_ang_x > -450) and (mean_r_ank_ang_x < -270):\n",
    "        r_ank_ang_x = r_ank_ang_x + 360\n",
    "    else:\n",
    "        pass\n",
    "\n",
    "    if (mean_r_ank_ang_y < 450) and (mean_r_ank_ang_y > 270):\n",
    "        r_ank_ang_y = r_ank_ang_y - 360\n",
    "    elif (mean_r_ank_ang_y > -450) and (mean_r_ank_ang_y < -270):\n",
    "        r_ank_ang_y = r_ank_ang_y + 360\n",
    "    else:\n",
    "        pass\n",
    "\n",
    "    if (mean_r_ank_ang_z < 450) and (mean_r_ank_ang_z > 270):\n",
    "        r_ank_ang_z = r_ank_ang_z - 360\n",
    "    elif (mean_r_ank_ang_z > -450) and (mean_r_ank_ang_z < -270):\n",
    "        r_ank_ang_z = r_ank_ang_z + 360\n",
    "    else:\n",
    "        pass\n",
    "\n",
    "    # Fix around 180\n",
    "    if (mean_r_ank_ang_x < 270) and (mean_r_ank_ang_x > 90):\n",
    "        r_ank_ang_x = r_ank_ang_x - 180\n",
    "    elif (mean_r_ank_ang_x > -270) and (mean_r_ank_ang_x < -90):\n",
    "        r_ank_ang_x = r_ank_ang_x + 180\n",
    "    else:\n",
    "        pass\n",
    "\n",
    "    if (mean_r_ank_ang_y < 270) and (mean_r_ank_ang_y > 90):\n",
    "        r_ank_ang_y = r_ank_ang_y - 180\n",
    "    elif (mean_r_ank_ang_y > -270) and (mean_r_ank_ang_y < -90):\n",
    "        r_ank_ang_y = r_ank_ang_y + 180\n",
    "    else:\n",
    "        pass\n",
    "\n",
    "    if (mean_r_ank_ang_z < 270) and (mean_r_ank_ang_z > 90):\n",
    "        r_ank_ang_z = r_ank_ang_z - 180\n",
    "    elif (mean_r_ank_ang_z > -270) and (mean_r_ank_ang_z < -90):\n",
    "        r_ank_ang_z = r_ank_ang_z + 180\n",
    "    else:\n",
    "        pass\n",
    "\n",
    "    # Write\n",
    "    mod_out_df[\"RAnkleAnglesX\"] = r_ank_ang_x\n",
    "    mod_out_df[\"RAnkleAnglesY\"] = r_ank_ang_y\n",
    "    mod_out_df[\"RAnkleAnglesZ\"] = r_ank_ang_z\n",
    "\n",
    "    mod_out_df.to_csv(mod_out_file, index=False, float_format=\"%.6g\")\n",
    "        \n",
    "    "
   ]
  },
  {
   "cell_type": "markdown",
   "id": "9639a4c7-5fbf-45ae-be38-76ba39ffe4a2",
   "metadata": {},
   "source": [
    "# 2) Fix hip and knee angle subject 4"
   ]
  },
  {
   "cell_type": "code",
   "execution_count": 1,
   "id": "10995cf3-1167-43a4-9311-8a5eca6d3111",
   "metadata": {},
   "outputs": [],
   "source": [
    "import numpy as np\n",
    "import pandas as pd\n",
    "import LocomotionAnalysisTools as lat"
   ]
  },
  {
   "cell_type": "code",
   "execution_count": 2,
   "id": "fe817c96-9fe6-4e72-8b6f-38ee3d35cdff",
   "metadata": {},
   "outputs": [],
   "source": [
    "dataFolder = \"C:/Users/robaeten/OneDrive - UGent/Gait Classification and References/Data\"\n",
    "subjectSessions = {\"Subject4\": [\"Session1\"]}\n",
    "dataToRead = \"_Proc_Ref\"\n",
    "foldersToRead, subjectInfoFiles = lat.get_data_locations(dataFolder, subjectSessions, dataToRead)\n",
    "filesToRead, _ = lat.get_filenames_ref(foldersToRead, subjectInfoFiles)"
   ]
  },
  {
   "cell_type": "code",
   "execution_count": 10,
   "id": "41b0ab94-2b97-40f6-b9bb-9baa68633434",
   "metadata": {},
   "outputs": [],
   "source": [
    "dataFolder = \"C:/Users/robaeten/OneDrive - UGent/Gait Classification and References/Data\"\n",
    "subjectSessions = {\"Subject4\": [\"Session1\"]}\n",
    "dataToRead = \"_Proc_Trn\"\n",
    "foldersToRead, subjectInfoFiles = lat.get_data_locations(dataFolder, subjectSessions, dataToRead)\n",
    "filesToRead, _ = lat.get_filenames_train(foldersToRead, subjectInfoFiles)"
   ]
  },
  {
   "cell_type": "code",
   "execution_count": 11,
   "id": "cc4351b7-9bff-41ca-9d5a-9eb210abc0ee",
   "metadata": {},
   "outputs": [
    {
     "name": "stdout",
     "output_type": "stream",
     "text": [
      "C:/Users/robaeten/OneDrive - UGent/Gait Classification and References/Data/Subject4/Session1_Proc_GMC/Subj4 - Rec1 - Side stepping (L) - Rep4 - ModOut.csv\n"
     ]
    }
   ],
   "source": [
    "# print(filesToRead[20][3])\n",
    "print(filesToRead[20][6])"
   ]
  },
  {
   "cell_type": "code",
   "execution_count": 12,
   "id": "7e15f5b1-4491-4551-a706-8730ccf24b37",
   "metadata": {},
   "outputs": [],
   "source": [
    "for files in filesToRead:\n",
    "    # Read\n",
    "    mod_out_file = files[6]\n",
    "    mod_out_df = pd.read_csv(mod_out_file)\n",
    "    \n",
    "    l_knee_ang_x = mod_out_df[\"LKneeAnglesX\"].to_numpy()\n",
    "    l_knee_ang_y = mod_out_df[\"LKneeAnglesY\"].to_numpy()\n",
    "    l_knee_ang_z = mod_out_df[\"LKneeAnglesZ\"].to_numpy()\n",
    "    mean_l_knee_ang_x = np.nanmean(l_knee_ang_x)\n",
    "    mean_l_knee_ang_y = np.nanmean(l_knee_ang_y)\n",
    "    mean_l_knee_ang_z = np.nanmean(l_knee_ang_z)\n",
    "\n",
    "    # Fix around 360\n",
    "    if (mean_l_knee_ang_x < 450) and (mean_l_knee_ang_x > 270):\n",
    "        l_knee_ang_x = l_knee_ang_x - 360\n",
    "    elif (mean_l_knee_ang_x > -450) and (mean_l_knee_ang_x < -270):\n",
    "        l_knee_ang_x = l_knee_ang_x + 360\n",
    "    else:\n",
    "        pass\n",
    "\n",
    "    if (mean_l_knee_ang_y < 450) and (mean_l_knee_ang_y > 270):\n",
    "        l_knee_ang_y = l_knee_ang_y - 360\n",
    "    elif (mean_l_knee_ang_y > -450) and (mean_l_knee_ang_y < -270):\n",
    "        l_knee_ang_y = l_knee_ang_y + 360\n",
    "    else:\n",
    "        pass\n",
    "\n",
    "    if (mean_l_knee_ang_z < 450) and (mean_l_knee_ang_z > 270):\n",
    "        l_knee_ang_z = l_knee_ang_z - 360\n",
    "    elif (mean_l_knee_ang_z > -450) and (mean_l_knee_ang_z < -270):\n",
    "        l_knee_ang_z = l_knee_ang_z + 360\n",
    "    else:\n",
    "        pass\n",
    "\n",
    "    # Fix around 180\n",
    "    if (mean_l_knee_ang_x < 270) and (mean_l_knee_ang_x > 90):\n",
    "        l_knee_ang_x = l_knee_ang_x - 180\n",
    "    elif (mean_l_knee_ang_x > -270) and (mean_l_knee_ang_x < -90):\n",
    "        l_knee_ang_x = l_knee_ang_x + 180\n",
    "    else:\n",
    "        pass\n",
    "\n",
    "    if (mean_l_knee_ang_y < 270) and (mean_l_knee_ang_y > 90):\n",
    "        l_knee_ang_y = l_knee_ang_y - 180\n",
    "    elif (mean_l_knee_ang_y > -270) and (mean_l_knee_ang_y < -90):\n",
    "        l_knee_ang_y = l_knee_ang_y + 180\n",
    "    else:\n",
    "        pass\n",
    "\n",
    "    if (mean_l_knee_ang_z < 270) and (mean_l_knee_ang_z > 90):\n",
    "        l_knee_ang_z = l_knee_ang_z - 180\n",
    "    elif (mean_l_knee_ang_z > -270) and (mean_l_knee_ang_z < -90):\n",
    "        l_knee_ang_z = l_knee_ang_z + 180\n",
    "    else:\n",
    "        pass\n",
    "\n",
    "    # Write\n",
    "    mod_out_df[\"LKneeAnglesX\"] = l_knee_ang_x\n",
    "    mod_out_df[\"LKneeAnglesY\"] = l_knee_ang_y\n",
    "    mod_out_df[\"LKneeAnglesZ\"] = l_knee_ang_z\n",
    "\n",
    "    mod_out_df.to_csv(mod_out_file, index=False, float_format=\"%.6g\")"
   ]
  },
  {
   "cell_type": "markdown",
   "id": "3afa3a88-746e-4910-bd0a-8657368d1a0f",
   "metadata": {},
   "source": [
    "# 3) Fix knee angle subject 12"
   ]
  },
  {
   "cell_type": "code",
   "execution_count": 1,
   "id": "37d541ea-c921-4799-8028-69a3abfbf19c",
   "metadata": {},
   "outputs": [],
   "source": [
    "import numpy as np\n",
    "import pandas as pd\n",
    "import LocomotionAnalysisTools as lat"
   ]
  },
  {
   "cell_type": "code",
   "execution_count": 2,
   "id": "87af06c9-93b0-4e54-92b3-4d0b1666f0cb",
   "metadata": {},
   "outputs": [],
   "source": [
    "dataFolder = \"C:/Users/robaeten/OneDrive - UGent/Gait Classification and References/Data\"\n",
    "subjectSessions = {\"Subject12\": [\"Session1\"]}\n",
    "dataToRead = \"_Proc_Ref\"\n",
    "foldersToRead, subjectInfoFiles = lat.get_data_locations(dataFolder, subjectSessions, dataToRead)\n",
    "filesToRead, _ = lat.get_filenames_ref(foldersToRead, subjectInfoFiles)"
   ]
  },
  {
   "cell_type": "code",
   "execution_count": 10,
   "id": "d6dbe2b3-4faa-4b78-bfb2-dbdcdf605411",
   "metadata": {},
   "outputs": [],
   "source": [
    "dataFolder = \"C:/Users/robaeten/OneDrive - UGent/Gait Classification and References/Data\"\n",
    "subjectSessions = {\"Subject12\": [\"Session1\"]}\n",
    "dataToRead = \"_Proc_Trn\"\n",
    "foldersToRead, subjectInfoFiles = lat.get_data_locations(dataFolder, subjectSessions, dataToRead)\n",
    "filesToRead, _ = lat.get_filenames_train(foldersToRead, subjectInfoFiles)"
   ]
  },
  {
   "cell_type": "code",
   "execution_count": 3,
   "id": "d23d1ef7-c25c-4b7d-8e08-69d39e5092a8",
   "metadata": {},
   "outputs": [
    {
     "name": "stdout",
     "output_type": "stream",
     "text": [
      "C:/Users/robaeten/OneDrive - UGent/Gait Classification and References/Data/Subject12/Session1_Proc_Ref/Subj12 - Rec1 - Jogging - Rep5_1 - ModelOutputs - badMarker - badForcePlate.csv\n"
     ]
    }
   ],
   "source": [
    "print(filesToRead[20][3])\n",
    "# print(filesToRead[20][6])"
   ]
  },
  {
   "cell_type": "code",
   "execution_count": 6,
   "id": "3910a545-e890-4ff2-a10d-81e81265e895",
   "metadata": {},
   "outputs": [
    {
     "name": "stderr",
     "output_type": "stream",
     "text": [
      "C:\\Users\\robaeten\\AppData\\Local\\Temp\\ipykernel_21900\\3628353182.py:9: RuntimeWarning: Mean of empty slice\n",
      "  mean_l_knee_ang_x = np.nanmean(l_knee_ang_x)\n",
      "C:\\Users\\robaeten\\AppData\\Local\\Temp\\ipykernel_21900\\3628353182.py:10: RuntimeWarning: Mean of empty slice\n",
      "  mean_l_knee_ang_y = np.nanmean(l_knee_ang_y)\n",
      "C:\\Users\\robaeten\\AppData\\Local\\Temp\\ipykernel_21900\\3628353182.py:11: RuntimeWarning: Mean of empty slice\n",
      "  mean_l_knee_ang_z = np.nanmean(l_knee_ang_z)\n"
     ]
    }
   ],
   "source": [
    "for files in filesToRead:\n",
    "    # Read\n",
    "    mod_out_file = files[3]\n",
    "    mod_out_df = pd.read_csv(mod_out_file)\n",
    "    \n",
    "    l_knee_ang_x = mod_out_df[\"RKneeAnglesX\"].to_numpy()\n",
    "    l_knee_ang_y = mod_out_df[\"RKneeAnglesY\"].to_numpy()\n",
    "    l_knee_ang_z = mod_out_df[\"RKneeAnglesZ\"].to_numpy()\n",
    "    mean_l_knee_ang_x = np.nanmean(l_knee_ang_x)\n",
    "    mean_l_knee_ang_y = np.nanmean(l_knee_ang_y)\n",
    "    mean_l_knee_ang_z = np.nanmean(l_knee_ang_z)\n",
    "\n",
    "    # Fix around 360\n",
    "    if (mean_l_knee_ang_x < 450) and (mean_l_knee_ang_x > 270):\n",
    "        l_knee_ang_x = l_knee_ang_x - 360\n",
    "    elif (mean_l_knee_ang_x > -450) and (mean_l_knee_ang_x < -270):\n",
    "        l_knee_ang_x = l_knee_ang_x + 360\n",
    "    else:\n",
    "        pass\n",
    "\n",
    "    if (mean_l_knee_ang_y < 450) and (mean_l_knee_ang_y > 270):\n",
    "        l_knee_ang_y = l_knee_ang_y - 360\n",
    "    elif (mean_l_knee_ang_y > -450) and (mean_l_knee_ang_y < -270):\n",
    "        l_knee_ang_y = l_knee_ang_y + 360\n",
    "    else:\n",
    "        pass\n",
    "\n",
    "    if (mean_l_knee_ang_z < 450) and (mean_l_knee_ang_z > 270):\n",
    "        l_knee_ang_z = l_knee_ang_z - 360\n",
    "    elif (mean_l_knee_ang_z > -450) and (mean_l_knee_ang_z < -270):\n",
    "        l_knee_ang_z = l_knee_ang_z + 360\n",
    "    else:\n",
    "        pass\n",
    "\n",
    "    # Fix around 180\n",
    "    if (mean_l_knee_ang_x < 270) and (mean_l_knee_ang_x > 90):\n",
    "        l_knee_ang_x = l_knee_ang_x - 180\n",
    "    elif (mean_l_knee_ang_x > -270) and (mean_l_knee_ang_x < -90):\n",
    "        l_knee_ang_x = l_knee_ang_x + 180\n",
    "    else:\n",
    "        pass\n",
    "\n",
    "    if (mean_l_knee_ang_y < 270) and (mean_l_knee_ang_y > 90):\n",
    "        l_knee_ang_y = l_knee_ang_y - 180\n",
    "    elif (mean_l_knee_ang_y > -270) and (mean_l_knee_ang_y < -90):\n",
    "        l_knee_ang_y = l_knee_ang_y + 180\n",
    "    else:\n",
    "        pass\n",
    "\n",
    "    if (mean_l_knee_ang_z < 270) and (mean_l_knee_ang_z > 90):\n",
    "        l_knee_ang_z = l_knee_ang_z - 180\n",
    "    elif (mean_l_knee_ang_z > -270) and (mean_l_knee_ang_z < -90):\n",
    "        l_knee_ang_z = l_knee_ang_z + 180\n",
    "    else:\n",
    "        pass\n",
    "\n",
    "    # Write\n",
    "    mod_out_df[\"RKneeAnglesX\"] = l_knee_ang_x\n",
    "    mod_out_df[\"RKneeAnglesY\"] = l_knee_ang_y\n",
    "    mod_out_df[\"RKneeAnglesZ\"] = l_knee_ang_z\n",
    "\n",
    "    mod_out_df.to_csv(mod_out_file, index=False, float_format=\"%.6g\")"
   ]
  },
  {
   "cell_type": "code",
   "execution_count": null,
   "id": "1123441e-6b1f-4157-8ef6-66c17f05697a",
   "metadata": {},
   "outputs": [],
   "source": []
  }
 ],
 "metadata": {
  "kernelspec": {
   "display_name": "Python [conda env:base] *",
   "language": "python",
   "name": "conda-base-py"
  },
  "language_info": {
   "codemirror_mode": {
    "name": "ipython",
    "version": 3
   },
   "file_extension": ".py",
   "mimetype": "text/x-python",
   "name": "python",
   "nbconvert_exporter": "python",
   "pygments_lexer": "ipython3",
   "version": "3.13.5"
  }
 },
 "nbformat": 4,
 "nbformat_minor": 5
}
